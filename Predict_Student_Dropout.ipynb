{
  "cells": [
    {
      "cell_type": "markdown",
      "metadata": {
        "id": "PS_vhm63WoyF"
      },
      "source": [
        "# **Predict students dropout**"
      ]
    },
    {
      "cell_type": "markdown",
      "metadata": {
        "id": "GDuagv6_X5Zu"
      },
      "source": [
        "#Introduction\n",
        "\n",
        "Quality education is a fundamental right that every government/educational institution strives to provide. However, dropout rates in schools remain a persistent challenge, influenced by various social, economic, and demographic factors. Hence, there is a need for a comprehensive analysis of school-level dropout patterns to address this issue. By identifying the underlying causes and vulnerable groups, we aim to formulate targeted interventions that can significantly reduce dropout rates and ensure that every child completes their education. Thus, this model can help the government/education institutions."
      ]
    },
    {
      "cell_type": "markdown",
      "metadata": {
        "id": "xae5ZfNyaobz"
      },
      "source": [
        "The purpose of this notebook is to provide an in-depth analysis of student dropout trends in school education. The analysis is based on a dataset called \"Predict Students' Dropout and Academic Success - Investigating the Impact of Social and Economic Factors,\" which was sourced from Kaggle and contributed by thedevastator (https://www.kaggle.com/thedevastator). The dataset contains a variety of attributes that help to explain the factors behind student dropout."
      ]
    },
    {
      "cell_type": "markdown",
      "metadata": {
        "id": "nfCluNIEatTB"
      },
      "source": [
        "#Overview"
      ]
    },
    {
      "cell_type": "markdown",
      "metadata": {
        "id": "iAGtomiMa9gB"
      },
      "source": [
        "Our main goal for this project is to analyze the dropout rates of students in school education, based on our dataset. We will be utilizing the available dataset titled \"Predict Students' Dropout and Academic Success - Investigating the Impact of Social and Economic Factors.\" Even though the dataset may not contain information on schools, areas, or castes, we can still extract valuable insights from the existing attributes."
      ]
    },
    {
      "cell_type": "markdown",
      "metadata": {
        "id": "17HuTd12bERP"
      },
      "source": [
        "The aim of this analysis is to provide insights into the factors influencing student dropout rates. The following key aspects will be explored:\n",
        "\n",
        "1. Demographic Analysis: We will investigate how factors like gender, age at enrollment, marital status, and nationality are correlated with student dropout rates.\n",
        "\n",
        "2. Economic Factors: The influence of economic factors such as parental occupation, tuition fee payment status, and scholarship eligibility on student dropout rates will be investigated.\n",
        "\n",
        "3. Academic Performance: We will analyze how students' academic performance, represented by variables like curricular units and evaluations, impacts their likelihood of dropping out.\n",
        "\n",
        "4. Social and Special Needs: We will explore whether students with educational special needs or those facing unique challenges like displacement or debt are more susceptible to dropout.\n",
        "\n",
        "5. Macro-economic Factors: We will investigate how broader economic indicators like unemployment rate, inflation rate, and GDP growth relate to dropout rates, as these can indirectly affect education outcomes.\n",
        "\n",
        "By identifying high-risk groups and understanding the nuanced factors contributing to dropout rates, the government can develop targeted interventions and policies to improve student retention and foster a conducive learning environment.\n",
        "\n",
        "In the subsequent sections of this notebook, we will delve into data preprocessing, exploratory data analysis, and the development of predictive models to aid in the dropout analysis. While we may not have school-wise, area-wise, or caste-wise information, we will use the available attributes to contribute to the government's efforts in ensuring every child's right to education and reducing dropout rates where possible."
      ]
    },
    {
      "cell_type": "markdown",
      "metadata": {
        "id": "IMmVBpQucVI_"
      },
      "source": [
        "#About the DataSet\n",
        "\n",
        "This dataset provides a comprehensive view of students enrolled in various undergraduate degrees offered at a higher education institution. It includes demographic data, social-economic factors, and academic performance information that can be used to analyze the possible predictors of student dropout and academic success. This dataset contains multiple disjoint databases consisting of relevant information available at the time of enrollment, such as application mode, marital status, course chosen, and more. Additionally, this data can be used to estimate overall student performance at the end of each semester by assessing credited/enrolled/evaluated/approved curricular units and their respective grades. Finally, we have unemployment rate, inflation rate, and GDP from the region, which can help us further understand how economic factors play into student dropout rates or academic success outcomes. This powerful analysis tool will provide valuable insight into what motivates students to stay in school or abandon their studies in a wide range of disciplines such as agronomy, design, education, nursing, journalism, management, social service, or technologies."
      ]
    },
    {
      "cell_type": "markdown",
      "metadata": {
        "id": "xJ5m0jRcW4T8"
      },
      "source": [
        "#Columns\n",
        "\n",
        "1. Marital status -\tThe marital status of the student. (Categorical)\n",
        "2. Application mode -\tThe method of application used by the student. (Categorical)\n",
        "3. Application order - The order in which the student applied. (Numerical)\n",
        "4. Course -\tThe course taken by the student. (Categorical)\n",
        "5. Daytime/evening attendance -\tWhether the student attends classes during the day or in the evening. (Categorical)\n",
        "6. Previous qualification -\tThe qualification obtained by the student before enrolling in higher education. (Categorical)\n",
        "7. Nationality -\tThe nationality of the student. (Categorical)\n",
        "8. Mother's qualification -\tThe qualification of the student's mother. (Categorical)\n",
        "9. Father's qualification -\tThe qualification of the student's father. (Categorical)\n",
        "10. Mother's occupation - The occupation of the student's mother. (Categorical)\n",
        "11. Father's occupation - The occupation of the student's father. (Categorical)\n",
        "12. Displaced -\tWhether the student is a displaced person. (Categorical)\n",
        "13. Educational special needs -\tWhether the student has any special educational needs. (Categorical)\n",
        "14. Debtor -\tWhether the student is a debtor. (Categorical)\n",
        "15. Tuition fees up to date -\tWhether the student's tuition fees are up to date. (Categorical)\n",
        "16. Gender -\tThe gender of the student. (Categorical)\n",
        "17. Scholarship holder -\tWhether the student is a scholarship holder. (Categorical)\n",
        "18. Age at enrollment -\tThe age of the student at the time of enrollment. (Numerical)\n",
        "19. International -\tWhether the student is an international student. (Categorical)\n",
        "20. Curricular units 1st sem (credited) -\tThe number of curricular units credited by the student in the first semester. (Numerical)\n",
        "21. Curricular units 1st sem (enrolled) -\tThe number of curricular units enrolled by the student in the first semester. (Numerical)\n",
        "22. Curricular units 1st sem (evaluations) -\tThe number of curricular units evaluated by the student in the first semester. (Numerical)\n",
        "23. Curricular units 1st sem (approved) -\tThe number of curricular units approved by the student in the first semester. (Numerical)"
      ]
    },
    {
      "cell_type": "markdown",
      "metadata": {
        "id": "bnYC78ZWXMhL"
      },
      "source": [
        "#Problem statement and Objective\n",
        "\n",
        "The task is to develop a machine learning model that can accurately classify students as potential dropouts based on their content."
      ]
    },
    {
      "cell_type": "markdown",
      "metadata": {
        "id": "THkdIUAQe-0H"
      },
      "source": [
        "#Solution and Analysis"
      ]
    },
    {
      "cell_type": "markdown",
      "metadata": {
        "id": "BgDqHYsV8jcQ"
      },
      "source": [
        "# Prepare the tools\n",
        "\n",
        "Import the required tools"
      ]
    },
    {
      "cell_type": "code",
      "execution_count": null,
      "metadata": {
        "id": "kBLZ6xtI14Co"
      },
      "outputs": [],
      "source": [
        "import pandas as pd\n",
        "import seaborn as sns\n",
        "import matplotlib.pyplot as plt\n",
        "import plotly.express as px\n",
        "import plotly.graph_objects as go\n",
        "from plotly.subplots import make_subplots\n",
        "from sklearn.model_selection import train_test_split\n",
        "from sklearn.tree import DecisionTreeClassifier\n",
        "from sklearn.linear_model import LogisticRegression\n",
        "from sklearn.ensemble import RandomForestClassifier\n",
        "from sklearn.neighbors import KNeighborsClassifier\n",
        "from sklearn.svm import SVC\n",
        "from sklearn.metrics import confusion_matrix, classification_report, accuracy_score\n",
        "from IPython.display import Markdown\n",
        "import joblib"
      ]
    },
    {
      "cell_type": "markdown",
      "metadata": {
        "id": "hUh9XPLPEfUr"
      },
      "source": [
        "Setup plotly\n"
      ]
    },
    {
      "cell_type": "markdown",
      "metadata": {
        "id": "Ub1448AnRbGg"
      },
      "source": [
        "This function is required for plotly to run properly in colab without it sometimes the plots don't render properly.\n",
        "\n",
        "To avoid code repeatability, enable plotly in cell function is created\n"
      ]
    },
    {
      "cell_type": "code",
      "execution_count": null,
      "metadata": {
        "id": "Y0OpFXcKEjT9"
      },
      "outputs": [],
      "source": [
        "def enable_plotly_in_cell():\n",
        "  import IPython\n",
        "  from plotly.offline import init_notebook_mode\n",
        "  display(IPython.core.display.HTML('''<script src=\"/static/components/requirejs/require.js\"></script>'''))\n",
        "  init_notebook_mode(connected=False)"
      ]
    },
    {
      "cell_type": "markdown",
      "metadata": {
        "id": "n-WcPgcc8mq4"
      },
      "source": [
        "# Load data\n",
        "\n",
        "Read dataset from csv file"
      ]
    },
    {
      "cell_type": "code",
      "execution_count": null,
      "metadata": {
        "id": "KcdubMxa8YPK"
      },
      "outputs": [],
      "source": [
        "dataset =  pd.read_csv(\"student dataset.csv\")"
      ]
    },
    {
      "cell_type": "markdown",
      "metadata": {
        "id": "YnwEa2kW8z-g"
      },
      "source": [
        "# Understanding the data"
      ]
    },
    {
      "cell_type": "markdown",
      "metadata": {
        "id": "uno780uH9tUx"
      },
      "source": [
        "Descriptive Analysis"
      ]
    },
    {
      "cell_type": "code",
      "execution_count": null,
      "metadata": {
        "id": "cDgnPK529HFv"
      },
      "outputs": [],
      "source": [
        "dataset.shape"
      ]
    },
    {
      "cell_type": "code",
      "execution_count": null,
      "metadata": {
        "id": "jku7193V9Stg"
      },
      "outputs": [],
      "source": [
        "print(f'We see the dataset has {dataset.shape[0]} observations and over {dataset.shape[1]} features.')"
      ]
    },
    {
      "cell_type": "markdown",
      "metadata": {
        "id": "cUJpuKKb-Fdv"
      },
      "source": [
        "Review the data and sample data"
      ]
    },
    {
      "cell_type": "code",
      "execution_count": null,
      "metadata": {
        "id": "lXUQsc0T-Kbg"
      },
      "outputs": [],
      "source": [
        "dataset.head()"
      ]
    },
    {
      "cell_type": "code",
      "execution_count": null,
      "metadata": {
        "id": "43KxKc-p-NA3"
      },
      "outputs": [],
      "source": [
        "dataset.sample(5)"
      ]
    },
    {
      "cell_type": "markdown",
      "metadata": {
        "id": "U66uXiHa-T7J"
      },
      "source": [
        "# Check datatype and information regarding all different features\n",
        "\n",
        "We want to look at the datatypes and check to see if they were interpreted correctly."
      ]
    },
    {
      "cell_type": "code",
      "execution_count": null,
      "metadata": {
        "id": "XFM7xts--ZnJ"
      },
      "outputs": [],
      "source": [
        "dataset.info()"
      ]
    },
    {
      "cell_type": "markdown",
      "metadata": {
        "id": "rtFHBGos-nTP"
      },
      "source": [
        "The results show that all columns have numerical datatypes except the Target column"
      ]
    },
    {
      "cell_type": "markdown",
      "metadata": {
        "id": "j2MabWyxDWFE"
      },
      "source": [
        "Learning the data mathematically"
      ]
    },
    {
      "cell_type": "code",
      "execution_count": null,
      "metadata": {
        "id": "38OfM36k_E-8"
      },
      "outputs": [],
      "source": [
        "dataset.describe(include = 'all')"
      ]
    },
    {
      "cell_type": "markdown",
      "metadata": {
        "id": "c6ZyS3vh_2ms"
      },
      "source": [
        "# Data Pre-processing"
      ]
    },
    {
      "cell_type": "markdown",
      "metadata": {
        "id": "Cu0pb5fUABy8"
      },
      "source": [
        "From the information we reviewed we could see there are no duplicates. However, we can check again and handle it if required."
      ]
    },
    {
      "cell_type": "markdown",
      "metadata": {
        "id": "y5ScwLPgAOlv"
      },
      "source": [
        "Look for missing data"
      ]
    },
    {
      "cell_type": "code",
      "execution_count": null,
      "metadata": {
        "id": "0ndUx6-AAOUe"
      },
      "outputs": [],
      "source": [
        "dataset.isnull().sum()"
      ]
    },
    {
      "cell_type": "markdown",
      "metadata": {
        "id": "ZIAxyjegAUhX"
      },
      "source": [
        "We notice there are no missing values at this stage"
      ]
    },
    {
      "cell_type": "markdown",
      "metadata": {
        "id": "wrUaNxfWAZrF"
      },
      "source": [
        "Check for duplicated records"
      ]
    },
    {
      "cell_type": "code",
      "execution_count": null,
      "metadata": {
        "id": "IxRNiwiDAc8Z"
      },
      "outputs": [],
      "source": [
        "print(f'There are {dataset.duplicated().sum()} duplicated rows in the dataset.')"
      ]
    },
    {
      "cell_type": "markdown",
      "metadata": {
        "id": "pTXPZSdTAof6"
      },
      "source": [
        "Rename columns of dataset\n",
        "\n",
        "This is done to make it easier to process the data. At the same time, it helps with the understanding and analysis of the data"
      ]
    },
    {
      "cell_type": "code",
      "execution_count": null,
      "metadata": {
        "id": "mqeMCq_wAsGk"
      },
      "outputs": [],
      "source": [
        "dataset.rename(columns = {'Nacionality' : 'Nationality', 'Age at enrollment':'Age'}, inplace = True)"
      ]
    },
    {
      "cell_type": "code",
      "execution_count": null,
      "metadata": {
        "id": "_NUtVkCjAwdF"
      },
      "outputs": [],
      "source": [
        "dataset.info()"
      ]
    },
    {
      "cell_type": "markdown",
      "metadata": {
        "id": "zjxiOrTIA1Sy"
      },
      "source": [
        "We notice the columns have been updated correctly"
      ]
    },
    {
      "cell_type": "markdown",
      "metadata": {
        "id": "2-9AVN9mBVou"
      },
      "source": [
        "# Exploratory Data Analysis"
      ]
    },
    {
      "cell_type": "markdown",
      "metadata": {
        "id": "Ust7p-0YOP3U"
      },
      "source": [
        "Most of the variables in the dataset are already converted to numerical format. However, for our analysis, we will revert some columns to original form"
      ]
    },
    {
      "cell_type": "markdown",
      "metadata": {
        "id": "2QWEyCHeQhL7"
      },
      "source": [
        "Create a copy of the dataset for exploratory data analysis"
      ]
    },
    {
      "cell_type": "code",
      "execution_count": null,
      "metadata": {
        "id": "VCVWdb78OeUg"
      },
      "outputs": [],
      "source": [
        "visualization_dataset = dataset.copy()"
      ]
    },
    {
      "cell_type": "markdown",
      "metadata": {
        "id": "Zcr4_5fwBdbr"
      },
      "source": [
        "Look acrosss all the unique records in the dataset\n",
        "\n",
        "This will also helps when building the web application"
      ]
    },
    {
      "cell_type": "code",
      "execution_count": null,
      "metadata": {
        "id": "yHa_qRQtBU9d"
      },
      "outputs": [],
      "source": [
        "for i in dataset.columns:\n",
        "  dis = len(dataset[i].unique())\n",
        "  print(f\"{i} - {dis}\")"
      ]
    },
    {
      "cell_type": "markdown",
      "metadata": {
        "id": "aG3_VjB5CJRQ"
      },
      "source": [
        "# Evaluate Target Variable\n",
        "\n",
        "We review the values in the target variable"
      ]
    },
    {
      "cell_type": "code",
      "execution_count": null,
      "metadata": {
        "id": "yXRPZFxlCtt7"
      },
      "outputs": [],
      "source": [
        "visualization_dataset['Target'].unique()"
      ]
    },
    {
      "cell_type": "markdown",
      "metadata": {
        "id": "svePC-RbCzrT"
      },
      "source": [
        "Based on the target column we can understand the following -\n",
        "\n",
        "1. Enrolled - The student is currently enrolled in the program\n",
        "2. Graduate - The student has graduated\n",
        "3. Dropout - The student has dropped out"
      ]
    },
    {
      "cell_type": "markdown",
      "metadata": {
        "id": "CWOQeYLXCQ-Q"
      },
      "source": [
        "Get the counts for the Target Column"
      ]
    },
    {
      "cell_type": "code",
      "execution_count": null,
      "metadata": {
        "id": "MvZrI_axCJC-"
      },
      "outputs": [],
      "source": [
        "visualization_dataset['Target'].value_counts()"
      ]
    },
    {
      "cell_type": "code",
      "execution_count": null,
      "metadata": {
        "id": "v6mqqxuWDobP"
      },
      "outputs": [],
      "source": [
        "enable_plotly_in_cell()\n",
        "\n",
        "x = visualization_dataset['Target'].value_counts().index\n",
        "y = visualization_dataset['Target'].value_counts().values\n",
        "\n",
        "df = pd.DataFrame({\n",
        "    'Target': x,\n",
        "    'Count_T' : y\n",
        "})\n",
        "\n",
        "fig = px.pie(df,\n",
        "             names ='Target',\n",
        "             values ='Count_T',\n",
        "             width=800,\n",
        "             height=500,\n",
        "            title='How many dropouts, enrolled & graduates are there in Target column')\n",
        "\n",
        "fig.update_traces(labels=['Graduate','Dropout','Enrolled'], hole=0.4,textinfo='value+label', pull=[0,0.2,0.1])\n",
        "fig.show()"
      ]
    },
    {
      "cell_type": "code",
      "execution_count": null,
      "metadata": {
        "id": "XBYHApe_PBL7"
      },
      "outputs": [],
      "source": [
        "enable_plotly_in_cell()\n",
        "\n",
        "fig = px.histogram(visualization_dataset, x='Target', color = 'Target',\n",
        "                   opacity = 1, barmode = 'overlay',\n",
        "                    width = 800, height = 500,\n",
        "                   color_discrete_sequence=px.colors.qualitative.G10)\n",
        "fig.update_layout(title='Target Count')\n",
        "fig.show()"
      ]
    },
    {
      "cell_type": "markdown",
      "metadata": {
        "id": "d8zE3WdlE9uo"
      },
      "source": [
        "Observation\n",
        "\n",
        "1. The graph shows that most of the students are Graduates\n",
        "2. There are more dropouts than the students who have enrolled\n",
        "3. We can see more students are graduating then droppoing out. However, the dropout number of student is high."
      ]
    },
    {
      "cell_type": "markdown",
      "metadata": {
        "id": "PJ3RKKdMGRKb"
      },
      "source": [
        "# Distribution of age of students at the time of enrollment"
      ]
    },
    {
      "cell_type": "markdown",
      "metadata": {
        "id": "QdivX4VJiJEw"
      },
      "source": [
        "We review the values in the Age feature"
      ]
    },
    {
      "cell_type": "code",
      "execution_count": null,
      "metadata": {
        "id": "0S6z1jqWiDP7"
      },
      "outputs": [],
      "source": [
        "visualization_dataset['Age'].unique()"
      ]
    },
    {
      "cell_type": "markdown",
      "metadata": {
        "id": "maMOZLAyiQy4"
      },
      "source": [
        "Let's get the counts for the Age feature"
      ]
    },
    {
      "cell_type": "code",
      "execution_count": null,
      "metadata": {
        "id": "-gGQlm8RiNiR"
      },
      "outputs": [],
      "source": [
        "visualization_dataset['Age'].value_counts()"
      ]
    },
    {
      "cell_type": "markdown",
      "metadata": {
        "id": "VHj5ZPqbhfjr"
      },
      "source": [
        "Let's review with help of some visuals how the age of student impacts the dropout ratio"
      ]
    },
    {
      "cell_type": "code",
      "execution_count": null,
      "metadata": {
        "id": "W99cOa09FIvc"
      },
      "outputs": [],
      "source": [
        "enable_plotly_in_cell()\n",
        "\n",
        "fig = px.histogram(visualization_dataset, x='Age', color = 'Target',\n",
        "                   opacity = 1, barmode = 'overlay',\n",
        "                    width = 800, height = 500,\n",
        "                   color_discrete_sequence=px.colors.qualitative.G10)\n",
        "fig.update_layout(title='Age distribution of students at time of enrollment')\n",
        "fig.show()"
      ]
    },
    {
      "cell_type": "code",
      "execution_count": null,
      "metadata": {
        "id": "NH_zrCMON60r"
      },
      "outputs": [],
      "source": [
        "enable_plotly_in_cell()\n",
        "plt.figure(figsize=(10, 6))\n",
        "sns.boxplot(x='Target', y='Age', data=visualization_dataset)\n",
        "plt.xlabel('Target')\n",
        "plt.ylabel('Age')\n",
        "plt.title('Relationship between Age and Target')\n",
        "plt.show()"
      ]
    },
    {
      "cell_type": "markdown",
      "metadata": {
        "id": "CDWpxLctKcWH"
      },
      "source": [
        "Observation\n",
        "\n",
        "1. The distribution shows that a high percentage of students are in in their late teens and early 20s\n",
        "2. We can also notice that there is an increase in dropout rate from mid 20s to early 30s"
      ]
    },
    {
      "cell_type": "markdown",
      "metadata": {
        "id": "W_pNxsHwQ0Sm"
      },
      "source": [
        "At this stage, as we are going to be analyzing other features. We create functions to avoid repability of code.\n",
        "\n",
        "The following two functions were created -\n",
        "\n",
        "1. Get Data Dictionaries - this creates a dictionary in  related to the target column\n",
        "2. Create Pie Charts - this creates pie chart based on the dictionary"
      ]
    },
    {
      "cell_type": "code",
      "execution_count": null,
      "metadata": {
        "id": "D8xfj6GaMbsf"
      },
      "outputs": [],
      "source": [
        "def get_data_dictionaries(category_list, dfcolumn_name, target_col, dictionary_list):\n",
        "  for each_category in category_list:\n",
        "    dictionary = dict(visualization_dataset[visualization_dataset[dfcolumn_name]== each_category][target_col].value_counts())\n",
        "    dictionary_list.append(dictionary)\n",
        "  return dictionary_list"
      ]
    },
    {
      "cell_type": "code",
      "execution_count": null,
      "metadata": {
        "id": "fLM9C7v7Mk2c"
      },
      "outputs": [],
      "source": [
        "def create_pie(dictionary_list, trace_list, colors_list):\n",
        "  for dictionary in dictionary_list:\n",
        "    trace = go.Pie(values = list(dictionary.values()), labels = list(dictionary.keys()),\n",
        "           textposition = 'inside', textinfo='percent+label',\n",
        "           marker=dict(colors=colors_list))\n",
        "    trace_list.append(trace)\n",
        "  return trace_list"
      ]
    },
    {
      "cell_type": "markdown",
      "metadata": {
        "id": "fYyxakk2TBYc"
      },
      "source": [
        "# Distribution of Gender at the time of enrollment"
      ]
    },
    {
      "cell_type": "markdown",
      "metadata": {
        "id": "KdEA7Ac8il-6"
      },
      "source": [
        "We review the values in the Gender feature"
      ]
    },
    {
      "cell_type": "code",
      "execution_count": null,
      "metadata": {
        "id": "uRVhKSu0TLp9"
      },
      "outputs": [],
      "source": [
        "visualization_dataset['Gender'].unique()"
      ]
    },
    {
      "cell_type": "markdown",
      "metadata": {
        "id": "tY2uVoU44xEL"
      },
      "source": [
        "From the dataset we know the the following:\n",
        "\n",
        "*   1 : Male\n",
        "*   2 : Female"
      ]
    },
    {
      "cell_type": "markdown",
      "metadata": {
        "id": "ezoNb8ZDit8b"
      },
      "source": [
        "Let's get the counts for the Gender Feature"
      ]
    },
    {
      "cell_type": "code",
      "execution_count": null,
      "metadata": {
        "id": "vIqyG_auir2O"
      },
      "outputs": [],
      "source": [
        "visualization_dataset['Gender'].value_counts()"
      ]
    },
    {
      "cell_type": "markdown",
      "metadata": {
        "id": "xSWNwnv6TUmc"
      },
      "source": [
        "For visualization, we will convert the numerical values back to the categorical values"
      ]
    },
    {
      "cell_type": "code",
      "execution_count": null,
      "metadata": {
        "id": "YJBOYBTGNPDF"
      },
      "outputs": [],
      "source": [
        "visualization_dataset['Gender'] = visualization_dataset['Gender'].map({1:'Male', 0:'Female'})"
      ]
    },
    {
      "cell_type": "markdown",
      "metadata": {
        "id": "a1Elx7-PUKqa"
      },
      "source": [
        "Getting dictionaries for genders"
      ]
    },
    {
      "cell_type": "code",
      "execution_count": null,
      "metadata": {
        "id": "AJ94mam-NQ_X"
      },
      "outputs": [],
      "source": [
        "genders = visualization_dataset['Gender'].unique()\n",
        "genders_dictionaries = get_data_dictionaries(genders, 'Gender', 'Target', [])\n",
        "genders_dictionaries"
      ]
    },
    {
      "cell_type": "markdown",
      "metadata": {
        "id": "9p7IGPqwhwy9"
      },
      "source": [
        "Let's review with help of some visuals how the gender of student impacts the dropout ratio"
      ]
    },
    {
      "cell_type": "code",
      "execution_count": null,
      "metadata": {
        "id": "0qWWfEdMVXch"
      },
      "outputs": [],
      "source": [
        "enable_plotly_in_cell()\n",
        "\n",
        "fig = px.histogram(visualization_dataset, x='Gender',\n",
        "                   opacity = 1, barmode = 'overlay',\n",
        "                   width = 800, height = 500,\n",
        "                   color_discrete_sequence=px.colors.qualitative.G10)\n",
        "\n",
        "fig.update_layout(title='Gender Percentage Distribution')\n",
        "fig.show()"
      ]
    },
    {
      "cell_type": "code",
      "execution_count": null,
      "metadata": {
        "id": "HxqDFm5XWPtu"
      },
      "outputs": [],
      "source": [
        "enable_plotly_in_cell()\n",
        "\n",
        "fig = px.pie(values = visualization_dataset['Gender'].value_counts(),\n",
        "            title='Gender percentage split',\n",
        "            width = 800, height = 500,\n",
        "            color_discrete_sequence=[\"red\", \"green\", \"blue\", \"goldenrod\", \"magenta\"]\n",
        "            )\n",
        "\n",
        "fig.update_traces(labels=['Female','Male'], hole=0.4,textinfo='percent+label', pull=[0,0.2,0.1])\n",
        "fig.show()"
      ]
    },
    {
      "cell_type": "markdown",
      "metadata": {
        "id": "fmMGvS0_nrLm"
      },
      "source": [
        "Creating subplots for Gender distribution of students based on Target column"
      ]
    },
    {
      "cell_type": "code",
      "execution_count": null,
      "metadata": {
        "id": "flLTZS2mXQYT"
      },
      "outputs": [],
      "source": [
        "enable_plotly_in_cell()\n",
        "\n",
        "fig = make_subplots(rows=1, cols=2, subplot_titles=['Male Student Distribution','Female Student Distribution'],\n",
        "                    specs=[[{'type': 'pie'},{'type': 'pie'}]])\n",
        "\n",
        "traces = []\n",
        "go.Pie(values = visualization_dataset['Gender'].value_counts(), labels = ['Female', 'Male'],\n",
        "                            textposition = 'inside', textinfo='percent+label')\n",
        "\n",
        "create_pie(genders_dictionaries, traces, ['midnightblue', 'tomato', 'lightseagreen'])\n",
        "\n",
        "fig.add_trace(traces[0], row=1, col=1)\n",
        "fig.add_trace(traces[1], row=1, col=2)\n",
        "\n",
        "fig.update_layout(height=500, width=800,\n",
        "                  title='Gender Distribution with Target',\n",
        "                  showlegend = False,\n",
        "                  font=dict(size=14))\n",
        "\n",
        "fig.show()\n"
      ]
    },
    {
      "cell_type": "markdown",
      "metadata": {
        "id": "E92jXEDsoVUi"
      },
      "source": [
        "Observation\n",
        "\n",
        "1. There are higher number of female students compared to male students\n",
        "2. Noticed there is a higher number of male student dropouts compare to female"
      ]
    },
    {
      "cell_type": "markdown",
      "metadata": {
        "id": "BbGgx9Tzoo3W"
      },
      "source": [
        "#Distribution of Attendance"
      ]
    },
    {
      "cell_type": "markdown",
      "metadata": {
        "id": "8VVfQ7HPyFn8"
      },
      "source": [
        "Looking at the attendance feature. It tells what time the student attends their classes"
      ]
    },
    {
      "cell_type": "markdown",
      "metadata": {
        "id": "0y6IKD1ni6nQ"
      },
      "source": [
        "We review the values in the Daytime/evening attendance feature"
      ]
    },
    {
      "cell_type": "code",
      "execution_count": null,
      "metadata": {
        "id": "LreWaKOaykzJ"
      },
      "outputs": [],
      "source": [
        "visualization_dataset['Daytime/evening attendance'].unique()"
      ]
    },
    {
      "cell_type": "markdown",
      "metadata": {
        "id": "ePn6sNaF1vtZ"
      },
      "source": [
        "From the dataset we know the the following:\n",
        "\n",
        "*   1 : Daytime attendance\n",
        "*   2: Nighttime attendance"
      ]
    },
    {
      "cell_type": "markdown",
      "metadata": {
        "id": "Ipzmjv29i_Cr"
      },
      "source": [
        "Let's get the counts for the Daytime/evening attendance feature"
      ]
    },
    {
      "cell_type": "code",
      "execution_count": null,
      "metadata": {
        "id": "y_B7SOO6i-Rm"
      },
      "outputs": [],
      "source": [
        "visualization_dataset['Daytime/evening attendance'].value_counts()"
      ]
    },
    {
      "cell_type": "markdown",
      "metadata": {
        "id": "SLMsy1VByLZa"
      },
      "source": [
        "For visualization, converting values to cateogrical values"
      ]
    },
    {
      "cell_type": "code",
      "execution_count": null,
      "metadata": {
        "id": "9BshXDILx_mO"
      },
      "outputs": [],
      "source": [
        "visualization_dataset['Daytime/evening attendance'] = visualization_dataset['Daytime/evening attendance'].map({1:'Daytime attendance', 0: 'Nightime attendance'})"
      ]
    },
    {
      "cell_type": "markdown",
      "metadata": {
        "id": "vbemVnwjytF7"
      },
      "source": [
        "Getting dictionaries for Attendance"
      ]
    },
    {
      "cell_type": "code",
      "execution_count": null,
      "metadata": {
        "id": "dH96WPRJytkn"
      },
      "outputs": [],
      "source": [
        "attendance = visualization_dataset['Daytime/evening attendance'].unique()\n",
        "attendance_dictionaries = get_data_dictionaries(attendance, 'Daytime/evening attendance', 'Target', [])\n",
        "attendance_dictionaries"
      ]
    },
    {
      "cell_type": "markdown",
      "metadata": {
        "id": "74fKdJl_jQDS"
      },
      "source": [
        "Let's review with help of some visuals how Daytime/evening attendance of student impacts the dropout ratio"
      ]
    },
    {
      "cell_type": "code",
      "execution_count": null,
      "metadata": {
        "id": "A2WGs8yXzZwr"
      },
      "outputs": [],
      "source": [
        "enable_plotly_in_cell()\n",
        "\n",
        "fig = px.histogram(visualization_dataset, x='Daytime/evening attendance',\n",
        "                   opacity = 1, barmode = 'overlay',\n",
        "                   width = 800, height = 500,\n",
        "                   color_discrete_sequence=px.colors.qualitative.G10)\n",
        "\n",
        "fig.update_layout(title='Attendance Percentage Distribution')\n",
        "fig.show()"
      ]
    },
    {
      "cell_type": "code",
      "execution_count": null,
      "metadata": {
        "id": "g5CEFC8yzhwT"
      },
      "outputs": [],
      "source": [
        "enable_plotly_in_cell()\n",
        "\n",
        "fig = px.pie(values = visualization_dataset['Daytime/evening attendance'].value_counts(),\n",
        "            title='Attedance percentage split',\n",
        "            width = 800, height = 500,\n",
        "            color_discrete_sequence=[\"red\", \"green\", \"blue\", \"goldenrod\", \"magenta\"]\n",
        "            )\n",
        "\n",
        "fig.update_traces(labels=['Daytime attendance','Nightime attendance'], hole=0.4,textinfo='percent+label', pull=[0,0.2,0.1])\n",
        "fig.show()"
      ]
    },
    {
      "cell_type": "markdown",
      "metadata": {
        "id": "0HR71UfRz1j8"
      },
      "source": [
        "Creating subplots for Attedance distribution of students based on Target column"
      ]
    },
    {
      "cell_type": "code",
      "execution_count": null,
      "metadata": {
        "id": "I0A7F-flz49Q"
      },
      "outputs": [],
      "source": [
        "enable_plotly_in_cell()\n",
        "\n",
        "fig = make_subplots(rows=1, cols=2, subplot_titles=['Daytime Student Distribution','Nighttime Student Distribution'],\n",
        "                    specs=[[{'type': 'pie'},{'type': 'pie'}]])\n",
        "\n",
        "traces = []\n",
        "go.Pie(values = visualization_dataset['Daytime/evening attendance'].value_counts(), labels = ['Nightime attendance', 'Daytime attendance'],\n",
        "                            textposition = 'inside', textinfo='percent+label')\n",
        "\n",
        "create_pie(attendance_dictionaries, traces, ['midnightblue', 'tomato', 'lightseagreen'])\n",
        "\n",
        "fig.add_trace(traces[0], row=1, col=1)\n",
        "fig.add_trace(traces[1], row=1, col=2)\n",
        "\n",
        "fig.update_layout(height=500, width=800,\n",
        "                  title='Attendance Distribution with Target',\n",
        "                  showlegend = False,\n",
        "                  font=dict(size=14))\n",
        "\n",
        "fig.show()\n"
      ]
    },
    {
      "cell_type": "markdown",
      "metadata": {
        "id": "WqM-RAaZ0NKn"
      },
      "source": [
        "Observation\n",
        "\n",
        "1. Majority of the students attend daytime classes\n",
        "2. There is an increase in dropout of students who attend nighttime classes"
      ]
    },
    {
      "cell_type": "markdown",
      "metadata": {
        "id": "T3OIDQil0dJe"
      },
      "source": [
        "# Evaluating Courses"
      ]
    },
    {
      "cell_type": "markdown",
      "metadata": {
        "id": "6ivtPKHsjb2p"
      },
      "source": [
        "We review the values in the Course feature"
      ]
    },
    {
      "cell_type": "code",
      "execution_count": null,
      "metadata": {
        "id": "Ph_uYq5B1lyJ"
      },
      "outputs": [],
      "source": [
        "visualization_dataset['Course'].unique()"
      ]
    },
    {
      "cell_type": "markdown",
      "metadata": {
        "id": "JdKLixYCjjsn"
      },
      "source": [
        "Let's get the counts for the Course feature"
      ]
    },
    {
      "cell_type": "code",
      "execution_count": null,
      "metadata": {
        "id": "4hBIcyKNjl5r"
      },
      "outputs": [],
      "source": [
        "visualization_dataset['Course'].value_counts()"
      ]
    },
    {
      "cell_type": "markdown",
      "metadata": {
        "id": "9cHnoEYh10qE"
      },
      "source": [
        "From the dataset we know the the following:\n",
        "\n",
        "*   1 : Biofuel Production Technologies\n",
        "*   2: Animation and Multimedia Design\n",
        "*   3: Social Service (evening attendance)\n",
        "*   4: Agronomy\n",
        "*   5: Communication Design\n",
        "*   6: Veterinary Nursing\n",
        "*   7: Informatics Engineering\n",
        "*   8: Equiniculture\n",
        "*   9: Management\n",
        "*   10: Social Service\n",
        "*   11: Tourism\n",
        "*   12: Nursing\n",
        "*   13: Oral Hygiene\n",
        "*   14: Advertising and Marketing Management\n",
        "*   15: Journalism and Communication\n",
        "*   16: Basic Education\n",
        "*   17: Management (evening attendance)"
      ]
    },
    {
      "cell_type": "markdown",
      "metadata": {
        "id": "B9T1SMZr2smr"
      },
      "source": [
        "For visualization, converting values to cateogrical values"
      ]
    },
    {
      "cell_type": "code",
      "execution_count": null,
      "metadata": {
        "id": "tDnSkYS42taC"
      },
      "outputs": [],
      "source": [
        "visualization_dataset['Course'] = visualization_dataset['Course'].map({1: 'Biofuel Production Technologies',\n",
        " 2: 'Animation and Multimedia Design', 3: 'Social Service (evening attendance)',\n",
        " 4: 'Agronomy', 5: 'Communication Design', 6: 'Veterinary Nursing',\n",
        " 7: 'Informatics Engineering', 8: 'Equiniculture', 9: 'Management',\n",
        " 10: 'Social Service', 11: 'Tourism', 12: 'Nursing', 13: 'Oral Hygiene',\n",
        " 14: 'Advertising and Marketing Management', 15: 'Journalism and Communication',\n",
        " 16: 'Basic Education', 17: 'Management (evening attendance)'})"
      ]
    },
    {
      "cell_type": "markdown",
      "metadata": {
        "id": "0JThEVdI21z4"
      },
      "source": [
        "Let's review with help of some visuals how Course of student impacts the dropout ratio"
      ]
    },
    {
      "cell_type": "code",
      "execution_count": null,
      "metadata": {
        "id": "m46BMpVd21CS"
      },
      "outputs": [],
      "source": [
        "enable_plotly_in_cell()\n",
        "\n",
        "fig = px.histogram(visualization_dataset, y='Course', color='Target',\n",
        "                   width = 900, height = 600,  text_auto=True,\n",
        "                   color_discrete_sequence=px.colors.qualitative.G10)\n",
        "\n",
        "fig.update_layout(title='Course Distribution by Target')\n",
        "fig.show()"
      ]
    },
    {
      "cell_type": "markdown",
      "metadata": {
        "id": "MZCAqj5v3koB"
      },
      "source": [
        "Observation\n",
        "\n",
        "1. Management (evening attendance) has the highest number of dropouts\n",
        "2. Nurising has a high number of dropouts however the overall ratio of dropout is lower compared to other corses"
      ]
    },
    {
      "cell_type": "markdown",
      "metadata": {
        "id": "ka1wwCZo39Fh"
      },
      "source": [
        "# Evaluating Martial Status"
      ]
    },
    {
      "cell_type": "markdown",
      "metadata": {
        "id": "eoXweO8UkBkF"
      },
      "source": [
        "We review the values in the Martial status feature"
      ]
    },
    {
      "cell_type": "code",
      "execution_count": null,
      "metadata": {
        "id": "U8vxB6lV4E_U"
      },
      "outputs": [],
      "source": [
        "visualization_dataset['Marital status'].unique()"
      ]
    },
    {
      "cell_type": "markdown",
      "metadata": {
        "id": "bUIM1IHLktmq"
      },
      "source": [
        "Let's get the counts for the Marital status feature"
      ]
    },
    {
      "cell_type": "code",
      "execution_count": null,
      "metadata": {
        "id": "B2-oNrOikuA5"
      },
      "outputs": [],
      "source": [
        "visualization_dataset['Marital status'].value_counts()"
      ]
    },
    {
      "cell_type": "markdown",
      "metadata": {
        "id": "2CrkvbmW4LNB"
      },
      "source": [
        "From the dataset we know the the following:\n",
        "\n",
        "*   1: Single\n",
        "*   2: Married\n",
        "*   3: Widower\n",
        "*   4: Divorced\n",
        "*   5: Facto union\n",
        "*   6: Legally Separated"
      ]
    },
    {
      "cell_type": "markdown",
      "metadata": {
        "id": "EIsUE4Qr4V35"
      },
      "source": [
        "For visualization, converting values to cateogrical values"
      ]
    },
    {
      "cell_type": "code",
      "execution_count": null,
      "metadata": {
        "id": "T9m49DJF4CB2"
      },
      "outputs": [],
      "source": [
        "visualization_dataset['Marital status'] = visualization_dataset['Marital status'].map({1:'Single', 2: 'Married',\n",
        "                                                             3: 'Widower', 4: 'Divorced',\n",
        "                                                             5: 'Facto union', 6: 'Legally Separated'})"
      ]
    },
    {
      "cell_type": "markdown",
      "metadata": {
        "id": "JHySPoFnlDWI"
      },
      "source": [
        "Let's review with help of some visuals how Marital status of student impacts the dropout ratio"
      ]
    },
    {
      "cell_type": "code",
      "execution_count": null,
      "metadata": {
        "colab": {
          "background_save": true
        },
        "id": "eMvmzZfq6gFV"
      },
      "outputs": [],
      "source": [
        "enable_plotly_in_cell()\n",
        "\n",
        "fig = px.histogram(visualization_dataset, x='Marital status',\n",
        "                   opacity = 1, barmode = 'overlay',\n",
        "                   width = 800, height = 500,\n",
        "                   color_discrete_sequence=px.colors.qualitative.G10)\n",
        "\n",
        "fig.update_layout(title='Martial status Distribution')\n",
        "fig.show()"
      ]
    },
    {
      "cell_type": "code",
      "execution_count": null,
      "metadata": {
        "colab": {
          "background_save": true
        },
        "id": "G_JsJhmT6rB8"
      },
      "outputs": [],
      "source": [
        "enable_plotly_in_cell()\n",
        "\n",
        "fig = px.pie(values = visualization_dataset['Marital status'].value_counts(),\n",
        "            title='Martial status percentage split',\n",
        "            width = 800, height = 500,\n",
        "            color_discrete_sequence=[\"red\", \"green\", \"blue\", \"goldenrod\", \"magenta\",'yellow']\n",
        "            )\n",
        "\n",
        "fig.update_traces(labels=['Single','Married','Divorced','Facto Union','Legally Separated','Widower'],textposition='inside',showlegend=True, hole=0.4,textinfo='percent', pull=[0,0.2,0.1])\n",
        "fig.show()"
      ]
    },
    {
      "cell_type": "markdown",
      "metadata": {
        "id": "FYqeVUxn8hq9"
      },
      "source": [
        "Getting dictionaries for Martial Status"
      ]
    },
    {
      "cell_type": "code",
      "execution_count": null,
      "metadata": {
        "colab": {
          "background_save": true
        },
        "id": "5ZHDKq-_8kqP"
      },
      "outputs": [],
      "source": [
        "status = visualization_dataset['Marital status'].unique()\n",
        "status_dictionaries = get_data_dictionaries(status, 'Marital status', 'Target', [])\n",
        "status_dictionaries"
      ]
    },
    {
      "cell_type": "markdown",
      "metadata": {
        "id": "OWLoQw0Z9NRE"
      },
      "source": [
        "At this point, since we are going through detailed plots. Let's create a function to avoid repability of code. The following function is created to create sub plot. It generates the list of subplots based on the input data"
      ]
    },
    {
      "cell_type": "code",
      "execution_count": null,
      "metadata": {
        "colab": {
          "background_save": true
        },
        "id": "7YTwz7gB9OfR"
      },
      "outputs": [],
      "source": [
        "def create_sub_plots(chart_to_plot, row, col):\n",
        "  cols = chart_to_plot * col\n",
        "  rows = [cols] * row\n",
        "  return rows"
      ]
    },
    {
      "cell_type": "markdown",
      "metadata": {
        "id": "0hXx3BvD8sY8"
      },
      "source": [
        "Creating subplots for Martial status distribution of students based on Target column"
      ]
    },
    {
      "cell_type": "code",
      "execution_count": null,
      "metadata": {
        "colab": {
          "background_save": true
        },
        "id": "kjJR8GrY84Jx"
      },
      "outputs": [],
      "source": [
        "enable_plotly_in_cell()\n",
        "\n",
        "fig = make_subplots(rows=2, cols=3, subplot_titles = status, specs= create_sub_plots([{'type':'pie'}], 2,3))\n",
        "\n",
        "traces = []\n",
        "\n",
        "create_pie(status_dictionaries, traces, [\"salmon\", \"lightblue\", \"lightgreen\"])\n",
        "\n",
        "fig.add_trace(traces[0], row=1, col=1)\n",
        "fig.add_trace(traces[1], row=1, col=2)\n",
        "fig.add_trace(traces[2], row=1, col=3)\n",
        "fig.add_trace(traces[3], row=2, col=1)\n",
        "fig.add_trace(traces[4], row=2, col=2)\n",
        "fig.add_trace(traces[5], row=2, col=3)\n",
        "\n",
        "fig.update_layout(height=800, width=1000, title='Martial Status Distribution with Target',\n",
        "                  showlegend = False,\n",
        "                  font=dict(size=14))\n",
        "\n",
        "fig.show()\n"
      ]
    },
    {
      "cell_type": "markdown",
      "metadata": {
        "id": "G1COh2Ji-y_-"
      },
      "source": [
        "Observation\n",
        "\n",
        "1. Majority of the students are single\n",
        "2. Legally separated and Married students have a high dropout rate"
      ]
    },
    {
      "cell_type": "markdown",
      "metadata": {
        "id": "ncgT5R8p_kFa"
      },
      "source": [
        "# Analyizing Features with Yes/No selections"
      ]
    },
    {
      "cell_type": "markdown",
      "metadata": {
        "id": "x_OPQP65_ubS"
      },
      "source": [
        "From the dataset we know the the following:\n",
        "\n",
        "1. Displaced has values\n",
        "\n",
        "*   1: Yes\n",
        "*   2: No\n",
        "\n",
        "2. Educational special needs\n",
        "\n",
        "*   1: Yes\n",
        "*   2: No\n",
        "\n",
        "3. Displaced has values\n",
        "\n",
        "*   1: Yes\n",
        "*   2: No\n",
        "\n",
        "4. Tuition fees up to date\n",
        "\n",
        "*   1: Yes\n",
        "*   2: No\n",
        "\n",
        "5. Scholarship holder\n",
        "\n",
        "*   1: Yes\n",
        "*   2: No\n",
        "\n",
        "6. International\n",
        "\n",
        "*   1: Yes\n",
        "*   2: No"
      ]
    },
    {
      "cell_type": "markdown",
      "metadata": {
        "id": "dp2YJRB_ALWl"
      },
      "source": [
        "For visualization, converting values to cateogrical values"
      ]
    },
    {
      "cell_type": "code",
      "execution_count": null,
      "metadata": {
        "colab": {
          "background_save": true
        },
        "id": "rw1u33Ig_t8g"
      },
      "outputs": [],
      "source": [
        "data_conversion = ['Displaced', 'Educational special needs','Debtor', 'Tuition fees up to date', 'Scholarship holder', 'International']\n",
        "for i in data_conversion:\n",
        "    visualization_dataset[i] = visualization_dataset[i].map({1:'Yes', 0: 'No'})"
      ]
    },
    {
      "cell_type": "markdown",
      "metadata": {
        "id": "QrzXxnLmAa_a"
      },
      "source": [
        "Getting dictionaries for Displaced feature"
      ]
    },
    {
      "cell_type": "code",
      "execution_count": null,
      "metadata": {
        "colab": {
          "background_save": true
        },
        "id": "ZdkxYnNGAe0r"
      },
      "outputs": [],
      "source": [
        "displaced = visualization_dataset['Displaced'].unique()\n",
        "displaced_dictionaries = get_data_dictionaries(displaced, 'Displaced', 'Target', [])\n",
        "displaced_dictionaries"
      ]
    },
    {
      "cell_type": "markdown",
      "metadata": {
        "id": "eOyrsQ-KAmdA"
      },
      "source": [
        "Getting dictionaries for Educational special needs feature"
      ]
    },
    {
      "cell_type": "code",
      "execution_count": null,
      "metadata": {
        "colab": {
          "background_save": true
        },
        "id": "ro6CoHlgAm8o"
      },
      "outputs": [],
      "source": [
        "educational_special_needs = visualization_dataset['Educational special needs'].unique()\n",
        "educational_special_needs_dictionaries = get_data_dictionaries(educational_special_needs, 'Educational special needs', 'Target', [])\n",
        "educational_special_needs_dictionaries"
      ]
    },
    {
      "cell_type": "markdown",
      "metadata": {
        "id": "4p2bgLFuAr61"
      },
      "source": [
        "Getting dictionaries for Debtor feature"
      ]
    },
    {
      "cell_type": "code",
      "execution_count": null,
      "metadata": {
        "colab": {
          "background_save": true
        },
        "id": "VQeAeF0zBDk2"
      },
      "outputs": [],
      "source": [
        "debtor = visualization_dataset['Debtor'].unique()\n",
        "debtor_dictionaries = get_data_dictionaries(debtor, 'Debtor', 'Target', [])\n",
        "debtor_dictionaries"
      ]
    },
    {
      "cell_type": "markdown",
      "metadata": {
        "id": "qflveqAEAumu"
      },
      "source": [
        "Getting dictionaries for Tuition fees up to date feature"
      ]
    },
    {
      "cell_type": "code",
      "execution_count": null,
      "metadata": {
        "colab": {
          "background_save": true
        },
        "id": "lDrTQ4BGBELG"
      },
      "outputs": [],
      "source": [
        "tuition_fees_up_to_date = visualization_dataset['Tuition fees up to date'].unique()\n",
        "tuition_fees_up_to_date_dictionaries = get_data_dictionaries(tuition_fees_up_to_date, 'Tuition fees up to date', 'Target', [])\n",
        "tuition_fees_up_to_date_dictionaries"
      ]
    },
    {
      "cell_type": "markdown",
      "metadata": {
        "id": "JMRakBe7AvZs"
      },
      "source": [
        "Getting dictionaries for Scholarship holder feature"
      ]
    },
    {
      "cell_type": "code",
      "execution_count": null,
      "metadata": {
        "colab": {
          "background_save": true
        },
        "id": "-LrJgs19BFEJ"
      },
      "outputs": [],
      "source": [
        "scholarship_holder = visualization_dataset['Scholarship holder'].unique()\n",
        "scholarship_holder_dictionaries = get_data_dictionaries(scholarship_holder, 'Scholarship holder', 'Target', [])\n",
        "scholarship_holder_dictionaries"
      ]
    },
    {
      "cell_type": "markdown",
      "metadata": {
        "id": "uzwIOVydAv4L"
      },
      "source": [
        "Getting dictionaries for International feature"
      ]
    },
    {
      "cell_type": "code",
      "execution_count": null,
      "metadata": {
        "colab": {
          "background_save": true
        },
        "id": "fvzkrxIEBpNn"
      },
      "outputs": [],
      "source": [
        "international = visualization_dataset['International'].unique()\n",
        "international_dictionaries = get_data_dictionaries(international, 'International', 'Target', [])\n",
        "international_dictionaries"
      ]
    },
    {
      "cell_type": "markdown",
      "metadata": {
        "id": "ETn3ngBECAq-"
      },
      "source": [
        "Creating subplots for Displayed distribution of students based on Target column"
      ]
    },
    {
      "cell_type": "code",
      "execution_count": null,
      "metadata": {
        "colab": {
          "background_save": true
        },
        "id": "XOl8VcvrCKnf"
      },
      "outputs": [],
      "source": [
        "enable_plotly_in_cell()\n",
        "\n",
        "fig = make_subplots(rows=1, cols=2, subplot_titles=['Displaced', 'Not Displaced'],\n",
        "                    specs=[[{'type': 'pie'},{'type': 'pie'}]])\n",
        "\n",
        "traces = []\n",
        "go.Pie(values = visualization_dataset['Displaced'].value_counts(), labels = ['Displaced', 'Not Displaced'],\n",
        "                            textposition = 'inside', textinfo='percent+label')\n",
        "\n",
        "create_pie(displaced_dictionaries, traces, ['pink', 'violet', 'beige'])\n",
        "\n",
        "fig.add_trace(traces[0], row=1, col=1)\n",
        "fig.add_trace(traces[1], row=1, col=2)\n",
        "\n",
        "fig.update_layout(height=500, width=800,\n",
        "                  title='Displaced Distribution with Target',\n",
        "                  showlegend = False,\n",
        "                  font=dict(size=14))\n",
        "\n",
        "fig.show()"
      ]
    },
    {
      "cell_type": "markdown",
      "metadata": {
        "id": "Sk-XY2c7DKfx"
      },
      "source": [
        "Creating subplots for Debtor distribution of students based on Target column"
      ]
    },
    {
      "cell_type": "code",
      "execution_count": null,
      "metadata": {
        "colab": {
          "background_save": true
        },
        "id": "UhuG6lrLDK6T"
      },
      "outputs": [],
      "source": [
        "enable_plotly_in_cell()\n",
        "\n",
        "fig = make_subplots(rows=1, cols=2, subplot_titles=['Have Debt', 'Does not have debt'],\n",
        "                    specs=[[{'type': 'pie'},{'type': 'pie'}]])\n",
        "\n",
        "traces = []\n",
        "go.Pie(values = visualization_dataset['Debtor'].value_counts(), labels = ['Does not have debt','Have Debt'],\n",
        "                            textposition = 'inside', textinfo='percent+label')\n",
        "\n",
        "create_pie(debtor_dictionaries, traces, ['pink', 'violet', 'beige'])\n",
        "\n",
        "fig.add_trace(traces[0], row=1, col=1)\n",
        "fig.add_trace(traces[1], row=1, col=2)\n",
        "\n",
        "fig.update_layout(height=500, width=800,\n",
        "                  title='Debtor Distribution with Target',\n",
        "                  showlegend = False,\n",
        "                  font=dict(size=14))\n",
        "\n",
        "fig.show()"
      ]
    },
    {
      "cell_type": "markdown",
      "metadata": {
        "id": "-76rNfc_H6VI"
      },
      "source": [
        "Creating subplots for Educational special needs distribution of students based on Target column"
      ]
    },
    {
      "cell_type": "code",
      "execution_count": null,
      "metadata": {
        "colab": {
          "background_save": true
        },
        "id": "DLhsLAAEH6xR"
      },
      "outputs": [],
      "source": [
        "enable_plotly_in_cell()\n",
        "\n",
        "fig = make_subplots(rows=1, cols=2, subplot_titles=['Does not need special educational care', 'Needs special educational care'],\n",
        "                    specs=[[{'type': 'pie'},{'type': 'pie'}]])\n",
        "\n",
        "traces = []\n",
        "go.Pie(values = visualization_dataset['Educational special needs'].value_counts(), labels = ['Does not need special educational care', 'Needs special educational care'],\n",
        "                            textposition = 'inside', textinfo='percent+label')\n",
        "\n",
        "create_pie(educational_special_needs_dictionaries, traces, ['pink', 'violet', 'beige'])\n",
        "\n",
        "fig.add_trace(traces[0], row=1, col=1)\n",
        "fig.add_trace(traces[1], row=1, col=2)\n",
        "\n",
        "fig.update_layout(height=500, width=800,\n",
        "                  title='Educational special needs Distribution with Target',\n",
        "                  showlegend = False,\n",
        "                  font=dict(size=14))\n",
        "\n",
        "fig.show()"
      ]
    },
    {
      "cell_type": "markdown",
      "metadata": {
        "id": "1I2tDtLIDZl0"
      },
      "source": [
        "Creating subplots for Tuition fees up to date distribution of students based on Target column"
      ]
    },
    {
      "cell_type": "code",
      "execution_count": null,
      "metadata": {
        "colab": {
          "background_save": true
        },
        "id": "xcP3D4xwDaHD"
      },
      "outputs": [],
      "source": [
        "enable_plotly_in_cell()\n",
        "\n",
        "fig = make_subplots(rows=1, cols=2, subplot_titles=['Fees up to date', 'Fees not up to date'],\n",
        "                    specs=[[{'type': 'pie'},{'type': 'pie'}]])\n",
        "\n",
        "traces = []\n",
        "go.Pie(values = visualization_dataset['Tuition fees up to date'].value_counts(), labels = ['Fees up to date', 'Fees not up to date'],\n",
        "                            textposition = 'inside', textinfo='percent+label')\n",
        "\n",
        "create_pie(tuition_fees_up_to_date_dictionaries, traces, ['pink', 'violet', 'beige'])\n",
        "\n",
        "fig.add_trace(traces[0], row=1, col=1)\n",
        "fig.add_trace(traces[1], row=1, col=2)\n",
        "\n",
        "fig.update_layout(height=500, width=800,\n",
        "                  title='Tuition fees up to date Distribution with Target',\n",
        "                  showlegend = False,\n",
        "                  font=dict(size=14))\n",
        "\n",
        "fig.show()"
      ]
    },
    {
      "cell_type": "markdown",
      "metadata": {
        "id": "eBBSx2dXE1S7"
      },
      "source": [
        "Creating subplots for Scholarship holder distribution of students based on Target column"
      ]
    },
    {
      "cell_type": "code",
      "execution_count": null,
      "metadata": {
        "colab": {
          "background_save": true
        },
        "id": "LFJDh_MqE0t3"
      },
      "outputs": [],
      "source": [
        "enable_plotly_in_cell()\n",
        "\n",
        "fig = make_subplots(rows=1, cols=2, subplot_titles=['Does not have scholarship','Has Scholarship'],\n",
        "                    specs=[[{'type': 'pie'},{'type': 'pie'}]])\n",
        "\n",
        "traces = []\n",
        "go.Pie(values = visualization_dataset['Scholarship holder'].value_counts(), labels = ['Does not have scholarship', 'Scholarship'],\n",
        "                            textposition = 'inside', textinfo='percent+label')\n",
        "\n",
        "create_pie(scholarship_holder_dictionaries, traces, ['lightindigo', 'lightpink', 'lightred'])\n",
        "\n",
        "fig.add_trace(traces[0], row=1, col=1)\n",
        "fig.add_trace(traces[1], row=1, col=2)\n",
        "\n",
        "fig.update_layout(height=500, width=800,\n",
        "                  title='Scholarship Distribution with Target',\n",
        "                  showlegend = False,\n",
        "                  font=dict(size=14))\n",
        "\n",
        "fig.show()"
      ]
    },
    {
      "cell_type": "markdown",
      "metadata": {
        "id": "XnCiJJJEC77G"
      },
      "source": [
        "Creating subplots for International distribution of students based on Target column"
      ]
    },
    {
      "cell_type": "code",
      "execution_count": null,
      "metadata": {
        "colab": {
          "background_save": true
        },
        "id": "N2uBUbv_DApS"
      },
      "outputs": [],
      "source": [
        "enable_plotly_in_cell()\n",
        "\n",
        "fig = make_subplots(rows=1, cols=2, subplot_titles=['Not International', 'International'],\n",
        "                    specs=[[{'type': 'pie'},{'type': 'pie'}]])\n",
        "\n",
        "traces = []\n",
        "go.Pie(values = visualization_dataset['International'].value_counts(), labels = ['Not International', 'International'],\n",
        "                            textposition = 'inside', textinfo='percent+label')\n",
        "\n",
        "create_pie(international_dictionaries, traces,['lightindigo', 'lightpink', 'lightred'])\n",
        "\n",
        "fig.add_trace(traces[0], row=1, col=1)\n",
        "fig.add_trace(traces[1], row=1, col=2)\n",
        "\n",
        "fig.update_layout(height=500, width=800,\n",
        "                  title='International Distribution with Target',\n",
        "                  showlegend = False,\n",
        "                  font=dict(size=14))\n",
        "\n",
        "fig.show()"
      ]
    },
    {
      "cell_type": "markdown",
      "metadata": {
        "id": "qdR9q5iHIgLv"
      },
      "source": [
        "Observation\n",
        "\n",
        "1. Students who are not displaced have a higher dropout\n",
        "2. Students who have debt have a much higher dropout ratio\n",
        "3. The ratio of dropout b/w students who need special care in comparison with who don't doesn't vary by much\n",
        "4. Students who don't have their fees paid show higher dropouts\n",
        "5. Students who have a scholarship show much less dropouts compared to the one's who don't have a scholarship\n",
        "6. International students have lower dropout ratio than non-international students. Howver, the difference is not huge"
      ]
    },
    {
      "cell_type": "markdown",
      "metadata": {
        "id": "GkkiCaucK2m5"
      },
      "source": [
        "# Analyzing features related to Economic factors\n"
      ]
    },
    {
      "cell_type": "markdown",
      "metadata": {
        "id": "MGoj8yhlLDyw"
      },
      "source": [
        "From the dataset we know the following features related to ecnomic factos:\n",
        "\n",
        "1. Inflation rate\n",
        "2. Unemployment rate\n",
        "3. GDP\n",
        "\n",
        "\n",
        "\n",
        "\n"
      ]
    },
    {
      "cell_type": "markdown",
      "metadata": {
        "id": "QRKXRNiFlye-"
      },
      "source": [
        "Let's review with help of some visuals how Economic factors of student impacts the dropout ratio"
      ]
    },
    {
      "cell_type": "code",
      "execution_count": null,
      "metadata": {
        "colab": {
          "background_save": true
        },
        "id": "UMu-K6AILXvz"
      },
      "outputs": [],
      "source": [
        "enable_plotly_in_cell()\n",
        "\n",
        "fig = px.histogram(visualization_dataset, x='Inflation rate',\n",
        "                   opacity = 1, barmode = 'group', color='Target',\n",
        "                   width = 800, height = 500,\n",
        "                   color_discrete_sequence=px.colors.qualitative.G10)\n",
        "\n",
        "fig.update_layout(title='Inflation rate % Distribution')\n",
        "fig.show()"
      ]
    },
    {
      "cell_type": "code",
      "execution_count": null,
      "metadata": {
        "id": "SpBuuAxLL0-O"
      },
      "outputs": [],
      "source": [
        "enable_plotly_in_cell()\n",
        "\n",
        "fig = px.histogram(visualization_dataset, x='Unemployment rate',\n",
        "                   opacity = 1, barmode = 'group', color='Target',\n",
        "                   width = 800, height = 500,\n",
        "                   color_discrete_sequence=px.colors.qualitative.G10)\n",
        "\n",
        "fig.update_layout(title='Unemployment rate % Distribution')\n",
        "fig.show()"
      ]
    },
    {
      "cell_type": "code",
      "execution_count": null,
      "metadata": {
        "id": "79clgFBTL1bF"
      },
      "outputs": [],
      "source": [
        "enable_plotly_in_cell()\n",
        "\n",
        "fig = px.histogram(visualization_dataset, x='GDP',\n",
        "                   opacity = 1, barmode = 'group', color='Target',\n",
        "                   width = 800, height = 500,\n",
        "                   color_discrete_sequence=px.colors.qualitative.G10)\n",
        "\n",
        "fig.update_layout(title='GDP % Distribution')\n",
        "fig.show()"
      ]
    },
    {
      "cell_type": "markdown",
      "metadata": {
        "id": "p8z_8Zf0MYQK"
      },
      "source": [
        "Oberseation\n",
        "\n",
        "1. Based on the analysis we can't find a pattern with the ecnonmic factos"
      ]
    },
    {
      "cell_type": "markdown",
      "metadata": {
        "id": "0d2_6e6WMz_m"
      },
      "source": [
        "# Feature Selection"
      ]
    },
    {
      "cell_type": "markdown",
      "metadata": {
        "id": "ToGy_LVfM_a5"
      },
      "source": [
        "In order to choose the features we first need to check the correlation between features and identify the impact"
      ]
    },
    {
      "cell_type": "markdown",
      "metadata": {
        "id": "1YZUjge3OOeo"
      },
      "source": [
        "Based on our initial we know only Target column is non-numeric which we can convert"
      ]
    },
    {
      "cell_type": "markdown",
      "metadata": {
        "id": "0jSn7GnFN7xr"
      },
      "source": [
        "Before we find the correlation. Since Target column is a output column we need it in numeric form so that we can find it's correlation with others"
      ]
    },
    {
      "cell_type": "code",
      "execution_count": null,
      "metadata": {
        "id": "Q4OnIkjeOUP4"
      },
      "outputs": [],
      "source": [
        "dataset['Target'] = dataset['Target'].map({\n",
        "    'Dropout':0,\n",
        "    'Graduate':1,\n",
        "    'Enrolled':2\n",
        "})"
      ]
    },
    {
      "cell_type": "code",
      "execution_count": null,
      "metadata": {
        "id": "L_-OzMrzOXjs"
      },
      "outputs": [],
      "source": [
        "dataset['Target']"
      ]
    },
    {
      "cell_type": "code",
      "execution_count": null,
      "metadata": {
        "id": "YLoTVGewOZuz"
      },
      "outputs": [],
      "source": [
        "dataset.dtypes"
      ]
    },
    {
      "cell_type": "markdown",
      "metadata": {
        "id": "vAzWordYOa5o"
      },
      "source": [
        "Now all our features are of numeric form"
      ]
    },
    {
      "cell_type": "markdown",
      "metadata": {
        "id": "pI_GiTf3Ogf0"
      },
      "source": [
        "Let's find the correlation of Target with all other numeric columns"
      ]
    },
    {
      "cell_type": "code",
      "execution_count": null,
      "metadata": {
        "id": "fQfBlgXxOfzq"
      },
      "outputs": [],
      "source": [
        "dataset.corr()['Target']"
      ]
    },
    {
      "cell_type": "markdown",
      "metadata": {
        "id": "Y6w16m_4NU4M"
      },
      "source": [
        "Let's find the correlation of Target with all other numeric columns"
      ]
    },
    {
      "cell_type": "code",
      "execution_count": null,
      "metadata": {
        "id": "ZNSxzkdhNLxb"
      },
      "outputs": [],
      "source": [
        "enable_plotly_in_cell()\n",
        "fig = px.imshow(dataset)\n",
        "fig.show()"
      ]
    },
    {
      "cell_type": "code",
      "execution_count": null,
      "metadata": {
        "id": "Y2vcqiMTNt2P"
      },
      "outputs": [],
      "source": [
        "plt.figure(figsize=(30, 30))\n",
        "sns.heatmap(dataset.corr() , annot=True, cmap='coolwarm', linewidths=0.5)\n",
        "plt.title('Correlation Heatmap')\n",
        "plt.show()"
      ]
    },
    {
      "cell_type": "markdown",
      "metadata": {
        "id": "NDo5_RqPO1SX"
      },
      "source": [
        "Observation\n",
        "\n",
        "The following features can be removed due to low correlation to the taarget variable.\n",
        "\n",
        "1. Nationality: its correlation is very close to zero (-0.0047),  it may not have a significant impact on the target variable.\n",
        "\n",
        "2. Mother's qualification: a correlation of -0.038 it appears to have a weak relationship with the target variable.\n",
        "\n",
        "3. Father's qualification:  a correlation of 0.00033,it seems to have little influence on the target variable.\n",
        "\n",
        "4. Educational special needs: a low correlation of -0.0074 it may not strongly affect the target variable.\n",
        "\n",
        "5. International: a low correlation of 0.0039 should have minimal impact on the target variable.\n",
        "\n",
        "6. Curricular units 1st sem (without evaluations): It has a correlation of -0.069, which is relatively low compared to other columns related to curricular units.\n",
        "\n",
        "7. Unemployment rate: This column's correlation of 0.0086 indicates a weak relationship with the target variable.\n",
        "\n",
        "8. Inflation rate: with a low correlation of -0.027, it has a relatively low impact on the target variable.\n",
        "\n",
        "These columns have low absolute correlation values and may not provide significant predictive power for your target variable Target and can be dropped"
      ]
    },
    {
      "cell_type": "code",
      "execution_count": null,
      "metadata": {
        "id": "L9_W50ZCRdi2"
      },
      "outputs": [],
      "source": [
        "new_dataset = dataset.copy()\n",
        "new_dataset = new_dataset.drop(columns=['Nationality',\n",
        "                                  'Mother\\'s qualification',\n",
        "                                  'Father\\'s qualification',\n",
        "                                  'Educational special needs',\n",
        "                                  'International',\n",
        "                                  'Curricular units 1st sem (without evaluations)',\n",
        "                                  'Unemployment rate',\n",
        "                                  'Inflation rate'], axis=1)"
      ]
    },
    {
      "cell_type": "code",
      "execution_count": null,
      "metadata": {
        "id": "4JI0kbWoRvqG"
      },
      "outputs": [],
      "source": [
        "new_dataset.info()"
      ]
    },
    {
      "cell_type": "markdown",
      "metadata": {
        "id": "Te-1WBFgcTJS"
      },
      "source": [
        "#Top 10 Features with Highest Correlation to Target"
      ]
    },
    {
      "cell_type": "code",
      "execution_count": null,
      "metadata": {
        "id": "RY1keiyycS5A"
      },
      "outputs": [],
      "source": [
        "enable_plotly_in_cell()\n",
        "correlations = new_dataset.corr()['Target']\n",
        "top_10_features = correlations.abs().nlargest(10).index\n",
        "top_10_corr_values = correlations[top_10_features]\n",
        "\n",
        "plt.figure(figsize=(10, 11))\n",
        "plt.bar(top_10_features, top_10_corr_values)\n",
        "plt.xlabel('Features')\n",
        "plt.ylabel('Correlation with Target')\n",
        "plt.title('Top 10 Features with Highest Correlation to Target')\n",
        "plt.xticks(rotation=45)\n",
        "plt.show()"
      ]
    },
    {
      "cell_type": "markdown",
      "metadata": {
        "id": "sgU2aPzVVzrr"
      },
      "source": [
        "We can further remove the following columns due to their high correlations\n",
        "\n",
        "1. Mother's occupation\n",
        "2. Father's occupation\n",
        "3. Curricular units 1st sem (credited)           \n",
        "4. Curricular units 1st sem (evaluations)   \n",
        "5. Curricular units 2nd sem (credited)           \n",
        "6. Curricular units 2nd sem (evaluations)  \n",
        "7. Curricular units 2nd sem (without evaluations)\n",
        "8. GDP"
      ]
    },
    {
      "cell_type": "code",
      "execution_count": null,
      "metadata": {
        "id": "QeMkdgbPXjU2"
      },
      "outputs": [],
      "source": [
        "final_dataset = new_dataset.copy()\n",
        "final_dataset = final_dataset.drop(columns=['Mother\\'s occupation',\n",
        "                                  'Father\\'s occupation',\n",
        "                                  'Curricular units 1st sem (credited)',\n",
        "                                  'Curricular units 1st sem (evaluations)',\n",
        "                                  'Curricular units 2nd sem (credited)',\n",
        "                                  'Curricular units 2nd sem (evaluations)',\n",
        "                                  'Curricular units 2nd sem (without evaluations)',\n",
        "                                  'GDP'], axis=1)"
      ]
    },
    {
      "cell_type": "code",
      "execution_count": null,
      "metadata": {
        "id": "id_M2KG2YEJa"
      },
      "outputs": [],
      "source": [
        "final_dataset.info()"
      ]
    },
    {
      "cell_type": "markdown",
      "metadata": {
        "id": "sCvEtzfWmI9n"
      },
      "source": [
        "This is the final dataset we have after the feature selection process."
      ]
    },
    {
      "cell_type": "markdown",
      "metadata": {
        "id": "aGwg25lYmRMl"
      },
      "source": [
        "Let's review the values across all features in our final dataset.\n",
        "\n",
        "We will also need this information while building the web application"
      ]
    },
    {
      "cell_type": "code",
      "execution_count": null,
      "metadata": {
        "id": "es4bKszFS4j0"
      },
      "outputs": [],
      "source": [
        "for i in final_dataset.columns:\n",
        "  print(i,set(final_dataset[i].values))"
      ]
    },
    {
      "cell_type": "markdown",
      "metadata": {
        "id": "Qc4uOL8AUJkR"
      },
      "source": [
        "# Data Processing"
      ]
    },
    {
      "cell_type": "markdown",
      "metadata": {
        "id": "DDqsNfCLZlht"
      },
      "source": [
        "Since we need to know who graduate and dropout so we do not need enrolled.\n",
        "\n",
        "Hence, we can filter out the data for enrolled."
      ]
    },
    {
      "cell_type": "code",
      "execution_count": null,
      "metadata": {
        "id": "5v6azsvuaLRy"
      },
      "outputs": [],
      "source": [
        "final_dataset=final_dataset[final_dataset.Target!=2]\n",
        "final_dataset"
      ]
    },
    {
      "cell_type": "markdown",
      "metadata": {
        "id": "6JG4VysAmf59"
      },
      "source": [
        "This is our updated final dataset"
      ]
    },
    {
      "cell_type": "markdown",
      "metadata": {
        "id": "Rt-V3BZ6bfhR"
      },
      "source": [
        "# Prepare the data"
      ]
    },
    {
      "cell_type": "markdown",
      "metadata": {
        "id": "fbcbTJMzms7x"
      },
      "source": [
        "Using the final dataset we got after the analysis, we will prepare the data."
      ]
    },
    {
      "cell_type": "code",
      "execution_count": null,
      "metadata": {
        "id": "2ix62nA8be5r"
      },
      "outputs": [],
      "source": [
        "X = final_dataset.drop('Target', axis=1)\n",
        "y = final_dataset['Target']\n",
        "final_dataset.head()"
      ]
    },
    {
      "cell_type": "markdown",
      "metadata": {
        "id": "y9es5qtjbvdJ"
      },
      "source": [
        "Splitting the data into Training & Testing Data"
      ]
    },
    {
      "cell_type": "code",
      "execution_count": null,
      "metadata": {
        "id": "sXJz9i3RbvHY"
      },
      "outputs": [],
      "source": [
        "X_train,X_test,y_train,y_test = train_test_split(X,y,test_size=0.2, random_state=40)"
      ]
    },
    {
      "cell_type": "markdown",
      "metadata": {
        "id": "1oveTq0fcyoM"
      },
      "source": [
        "# Modelling"
      ]
    },
    {
      "cell_type": "markdown",
      "metadata": {
        "id": "59A9yVNweyCO"
      },
      "source": [
        "Since this is a classifcation problem where we need to predict based on a target value which comprises of 0 (Dropout) and 1 (Graduate). We will be using the following techniques"
      ]
    },
    {
      "cell_type": "markdown",
      "metadata": {
        "id": "BeSCuFeJlZdk"
      },
      "source": [
        "#Evaluating with Descision Tree"
      ]
    },
    {
      "cell_type": "markdown",
      "metadata": {
        "id": "4gFIsH-TlfxI"
      },
      "source": [
        "Train a Descision Tree Model"
      ]
    },
    {
      "cell_type": "code",
      "execution_count": null,
      "metadata": {
        "id": "JksfTp91lpd4"
      },
      "outputs": [],
      "source": [
        "dtree = DecisionTreeClassifier(random_state=0)\n",
        "dtree.fit(X_train,y_train)"
      ]
    },
    {
      "cell_type": "markdown",
      "metadata": {
        "id": "jKd6R5htlwIg"
      },
      "source": [
        "Predict target values for Test data"
      ]
    },
    {
      "cell_type": "code",
      "execution_count": null,
      "metadata": {
        "id": "dxNsh9DzluQ4"
      },
      "outputs": [],
      "source": [
        "y_pred_dtree = dtree.predict(X_test)"
      ]
    },
    {
      "cell_type": "code",
      "execution_count": null,
      "metadata": {
        "id": "APcxxxIgmA5q"
      },
      "outputs": [],
      "source": [
        "dtree_confusion_matrix = confusion_matrix(y_test, y_pred_dtree)"
      ]
    },
    {
      "cell_type": "markdown",
      "metadata": {
        "id": "WkJ9a9DrmGQ4"
      },
      "source": [
        "Evaluate the model's accuracy"
      ]
    },
    {
      "cell_type": "code",
      "execution_count": null,
      "metadata": {
        "id": "E1lcD3nTmJxr"
      },
      "outputs": [],
      "source": [
        "dtree_accuracy = round(accuracy_score(y_test, y_pred_dtree), 3)\n",
        "print(f'Accuracy of Decision tree model is {dtree_accuracy * 100}%')"
      ]
    },
    {
      "cell_type": "markdown",
      "metadata": {
        "id": "NKQXzyTHm-3e"
      },
      "source": [
        "Print and review the classification report for the model"
      ]
    },
    {
      "cell_type": "code",
      "execution_count": null,
      "metadata": {
        "id": "xfh3XFolmLRy"
      },
      "outputs": [],
      "source": [
        "print(classification_report(y_test,y_pred_dtree))"
      ]
    },
    {
      "cell_type": "markdown",
      "metadata": {
        "id": "ckcgK8b9mftu"
      },
      "source": [
        "#Evaluate with Random Forest"
      ]
    },
    {
      "cell_type": "markdown",
      "metadata": {
        "id": "ie0ASZvrmft2"
      },
      "source": [
        "Train a Random Forest Model"
      ]
    },
    {
      "cell_type": "code",
      "execution_count": null,
      "metadata": {
        "id": "Dz-5Ts2-mft2"
      },
      "outputs": [],
      "source": [
        "rf = RandomForestClassifier(random_state=2)\n",
        "rf.fit(X_train,y_train)"
      ]
    },
    {
      "cell_type": "markdown",
      "metadata": {
        "id": "FQI8j4d3mft2"
      },
      "source": [
        "Predict target values for Test data"
      ]
    },
    {
      "cell_type": "code",
      "execution_count": null,
      "metadata": {
        "id": "qZGUPfJXmft2"
      },
      "outputs": [],
      "source": [
        "y_pred_rf = rf.predict(X_test)"
      ]
    },
    {
      "cell_type": "code",
      "execution_count": null,
      "metadata": {
        "id": "8E5uoie3mft2"
      },
      "outputs": [],
      "source": [
        "rf_confusion_matrix = confusion_matrix(y_test, y_pred_rf)"
      ]
    },
    {
      "cell_type": "markdown",
      "metadata": {
        "id": "jkFDw6Cwmft3"
      },
      "source": [
        "Evaluate the model's accuracy"
      ]
    },
    {
      "cell_type": "code",
      "execution_count": null,
      "metadata": {
        "id": "Np6sw6uLmft2"
      },
      "outputs": [],
      "source": [
        "rf_accuracy = round(accuracy_score(y_test, y_pred_rf), 3)\n",
        "print(f'Accuracy of Random Forest model is {rf_accuracy * 100}%')"
      ]
    },
    {
      "cell_type": "markdown",
      "metadata": {
        "id": "O-Q4HIlNnGWE"
      },
      "source": [
        "Print and review the classification report for the model"
      ]
    },
    {
      "cell_type": "code",
      "execution_count": null,
      "metadata": {
        "id": "0LImWOESmft2"
      },
      "outputs": [],
      "source": [
        "print(classification_report(y_test,y_pred_rf))"
      ]
    },
    {
      "cell_type": "markdown",
      "metadata": {
        "id": "Cu6--vgDnFZB"
      },
      "source": [
        "#Evaluate with K-Nearest Neighbours"
      ]
    },
    {
      "cell_type": "code",
      "execution_count": null,
      "metadata": {
        "id": "5kMNnw4onFZB"
      },
      "outputs": [],
      "source": [
        "knn = KNeighborsClassifier()"
      ]
    },
    {
      "cell_type": "markdown",
      "metadata": {
        "id": "1LBVXgjankLj"
      },
      "source": [
        "Use elbow method to find optimal K value"
      ]
    },
    {
      "cell_type": "code",
      "execution_count": null,
      "metadata": {
        "id": "U9Q9WQRNnj-d"
      },
      "outputs": [],
      "source": [
        "accuracy = []\n",
        "for i in range(1,21):\n",
        "  knn_model = KNeighborsClassifier(n_neighbors=i)\n",
        "  knn_model.fit(X_train, y_train)\n",
        "  y_pred_knn = knn_model.predict(X_test)\n",
        "  accuracy.append(accuracy_score(y_test, y_pred_knn))"
      ]
    },
    {
      "cell_type": "code",
      "execution_count": null,
      "metadata": {
        "id": "ykd7bAc7nwOF"
      },
      "outputs": [],
      "source": [
        "plt.figure(figsize=(10,6))\n",
        "plt.plot(range(1,21), accuracy, color='blue', linestyle='dashed', marker='o', markerfacecolor='red', markersize=10)\n",
        "plt.title('Accuracy vs. K Value')\n",
        "plt.xlabel('K')\n",
        "plt.ylabel('Accuracy Score')"
      ]
    },
    {
      "cell_type": "code",
      "execution_count": null,
      "metadata": {
        "id": "2aX07surn1Rl"
      },
      "outputs": [],
      "source": [
        "k = accuracy.index(max(accuracy)) + 1"
      ]
    },
    {
      "cell_type": "code",
      "execution_count": null,
      "metadata": {
        "id": "MVTcRDc6n3gL"
      },
      "outputs": [],
      "source": [
        "Markdown(f\"\"\"\n",
        "#### From the result we can determine that the optimal k- value with the highest score {k}\"\"\")"
      ]
    },
    {
      "cell_type": "markdown",
      "metadata": {
        "id": "UK27YID3n_QA"
      },
      "source": [
        "Train a K-Nearest Neighbours Model"
      ]
    },
    {
      "cell_type": "code",
      "execution_count": null,
      "metadata": {
        "id": "FPyc7wCnn9r3"
      },
      "outputs": [],
      "source": [
        "knn = KNeighborsClassifier(n_neighbors=k)\n",
        "knn.fit(X_train, y_train)"
      ]
    },
    {
      "cell_type": "markdown",
      "metadata": {
        "id": "cCUTmBsEnFZC"
      },
      "source": [
        "Predict target values for Test data"
      ]
    },
    {
      "cell_type": "code",
      "execution_count": null,
      "metadata": {
        "id": "542mQZc1nFZC"
      },
      "outputs": [],
      "source": [
        "y_pred_knn = knn.predict(X_test)"
      ]
    },
    {
      "cell_type": "code",
      "execution_count": null,
      "metadata": {
        "id": "Ena8hf0EnFZC"
      },
      "outputs": [],
      "source": [
        "knn_confusion_matrix = confusion_matrix(y_test, y_pred_knn)"
      ]
    },
    {
      "cell_type": "code",
      "execution_count": null,
      "metadata": {
        "id": "_pNnA23LnFZC"
      },
      "outputs": [],
      "source": [
        "knn_accuracy = round(accuracy_score(y_test, y_pred_knn), 3)\n",
        "print(f'Accuracy of KNN Model is {knn_accuracy * 100}%')"
      ]
    },
    {
      "cell_type": "markdown",
      "metadata": {
        "id": "pulXrQx3nI9F"
      },
      "source": [
        "Print and review the classification report for the model"
      ]
    },
    {
      "cell_type": "code",
      "execution_count": null,
      "metadata": {
        "id": "Dzm__B4lnFZD"
      },
      "outputs": [],
      "source": [
        "print(classification_report(y_test,y_pred_knn))"
      ]
    },
    {
      "cell_type": "markdown",
      "metadata": {
        "id": "HPrfoOd1ofYK"
      },
      "source": [
        "#Evaluate with Support Vector Machines"
      ]
    },
    {
      "cell_type": "markdown",
      "metadata": {
        "id": "lLnJTCvYo0Pn"
      },
      "source": [
        "Iterate to see which kernel gives the best result"
      ]
    },
    {
      "cell_type": "code",
      "execution_count": null,
      "metadata": {
        "id": "TL9jOq8go23p"
      },
      "outputs": [],
      "source": [
        "kernels = ['linear', 'poly', 'rbf', 'sigmoid']\n",
        "score_list = {}\n",
        "scores = 0\n",
        "\n",
        "for k in kernels:\n",
        "    svm = SVC(kernel= k)\n",
        "    svm.fit(X_train, y_train)\n",
        "    f_score = svm.score(X_test, y_test)\n",
        "    score_list.update({k: f_score})\n",
        "\n",
        "score_list"
      ]
    },
    {
      "cell_type": "markdown",
      "metadata": {
        "id": "Q-en_-4PofYR"
      },
      "source": [
        "Train a Support Vector Machines"
      ]
    },
    {
      "cell_type": "code",
      "execution_count": null,
      "metadata": {
        "id": "N9doRNWsofYR"
      },
      "outputs": [],
      "source": [
        "svm = SVC(kernel = 'linear')\n",
        "svm.fit(X_train, y_train)"
      ]
    },
    {
      "cell_type": "markdown",
      "metadata": {
        "id": "P4yFU9PfofYS"
      },
      "source": [
        "Predict target values for Test data"
      ]
    },
    {
      "cell_type": "code",
      "execution_count": null,
      "metadata": {
        "id": "IyUZ_3LvofYS"
      },
      "outputs": [],
      "source": [
        "y_pred_svm = svm.predict(X_test)"
      ]
    },
    {
      "cell_type": "code",
      "execution_count": null,
      "metadata": {
        "id": "jaLiygdvofYS"
      },
      "outputs": [],
      "source": [
        "svm_confusion_matrix = confusion_matrix(y_test, y_pred_svm)"
      ]
    },
    {
      "cell_type": "markdown",
      "metadata": {
        "id": "C88wHGhjofYS"
      },
      "source": [
        "Evaluate the model's accuracy"
      ]
    },
    {
      "cell_type": "code",
      "execution_count": null,
      "metadata": {
        "id": "7kSYrtagofYS"
      },
      "outputs": [],
      "source": [
        "svm_accuracy = round(accuracy_score(y_test, y_pred_svm), 3)\n",
        "print(f'Accuracy of Support Vector Machine model is {svm_accuracy * 100}%')"
      ]
    },
    {
      "cell_type": "markdown",
      "metadata": {
        "id": "VcuHjIRZnSWF"
      },
      "source": [
        "Print and review the classification report for the model"
      ]
    },
    {
      "cell_type": "code",
      "execution_count": null,
      "metadata": {
        "id": "Be1KQzpWofYS"
      },
      "outputs": [],
      "source": [
        "print(classification_report(y_test,y_pred_svm))"
      ]
    },
    {
      "cell_type": "markdown",
      "metadata": {
        "id": "1hg_KzY7p8Zm"
      },
      "source": [
        "#Evaluate with Logistic Regression"
      ]
    },
    {
      "cell_type": "markdown",
      "metadata": {
        "id": "RNxgFRvAp8Zx"
      },
      "source": [
        "Train a Logistic Regression Model"
      ]
    },
    {
      "cell_type": "code",
      "execution_count": null,
      "metadata": {
        "id": "figHMzDTqtt-"
      },
      "outputs": [],
      "source": [
        "lr = LogisticRegression(solver='lbfgs', max_iter=1000)\n",
        "lr.fit(X_train,y_train)"
      ]
    },
    {
      "cell_type": "markdown",
      "metadata": {
        "id": "HdPSaq-mq0xR"
      },
      "source": [
        "Predict target values for Test data"
      ]
    },
    {
      "cell_type": "code",
      "execution_count": null,
      "metadata": {
        "id": "DksDnoB9qtsK"
      },
      "outputs": [],
      "source": [
        "y_pred_lr = lr.predict(X_test)"
      ]
    },
    {
      "cell_type": "code",
      "execution_count": null,
      "metadata": {
        "id": "2EF4GWjlq5Zn"
      },
      "outputs": [],
      "source": [
        "lr_confusion_matrix = confusion_matrix(y_test, y_pred_lr)"
      ]
    },
    {
      "cell_type": "markdown",
      "metadata": {
        "id": "TR6RPjmqq_ho"
      },
      "source": [
        "Evaluate the model's accuracy"
      ]
    },
    {
      "cell_type": "code",
      "execution_count": null,
      "metadata": {
        "id": "-7WV_Y_hrF1o"
      },
      "outputs": [],
      "source": [
        "lr_accuracy = round(accuracy_score(y_test, y_pred_lr), 3)\n",
        "print(f'Accuracy of Logistic Regression model is {lr_accuracy * 100}%')"
      ]
    },
    {
      "cell_type": "markdown",
      "metadata": {
        "id": "ro23MG40nW0j"
      },
      "source": [
        "Print and review the classification report for the model"
      ]
    },
    {
      "cell_type": "code",
      "execution_count": null,
      "metadata": {
        "id": "We_DkXBdrOah"
      },
      "outputs": [],
      "source": [
        "print(classification_report(y_test,y_pred_lr))"
      ]
    },
    {
      "cell_type": "markdown",
      "metadata": {
        "id": "-Nfqn4uVrkxR"
      },
      "source": [
        "#Reviewing Confusion Matrix based on Each Model"
      ]
    },
    {
      "cell_type": "markdown",
      "metadata": {
        "id": "p-AqE4XksqXO"
      },
      "source": [
        "Plot bar graph with each model"
      ]
    },
    {
      "cell_type": "code",
      "execution_count": null,
      "metadata": {
        "id": "fu3KP2_5roI9"
      },
      "outputs": [],
      "source": [
        "enable_plotly_in_cell()\n",
        "accuracy_of_models = {'SVC': svm_accuracy,\n",
        "                      'Random Forest': rf_accuracy,\n",
        "                      'Logistic Regression': lr_accuracy,\n",
        "                      'KNN': knn_accuracy,\n",
        "                      'Decision Tree': dtree_accuracy}\n",
        "\n",
        "\n",
        "fig = px.bar(x = list(accuracy_of_models.keys()), y= list(accuracy_of_models.values()),\n",
        "             color = list(accuracy_of_models.values()),\n",
        "             width = 800, height = 400,\n",
        "             color_discrete_sequence=px.colors.qualitative.G10,\n",
        "             labels={'x':'Classifier', 'y':'Accuracy'}, text_auto=True)\n",
        "\n",
        "\n",
        "fig.update_layout(title='Accuracy performance of classification models')\n",
        "fig.show()"
      ]
    },
    {
      "cell_type": "markdown",
      "metadata": {
        "id": "dJjFvMC2suJZ"
      },
      "source": [
        "Compare confusion matrix for each model"
      ]
    },
    {
      "cell_type": "code",
      "execution_count": null,
      "metadata": {
        "id": "TqjmiIDpsfcf"
      },
      "outputs": [],
      "source": [
        "confusion_matrix_of_models = {'SVC': svm_confusion_matrix,\n",
        "                      'Random Forest': rf_confusion_matrix,\n",
        "                      'Logistic Regression': lr_confusion_matrix,\n",
        "                      'KNN': knn_confusion_matrix,\n",
        "                      'Decision Tree':dtree_confusion_matrix}"
      ]
    },
    {
      "cell_type": "markdown",
      "metadata": {
        "id": "YMG64vSzswyN"
      },
      "source": [
        "Let's find the best model by comparing each of the models we have evaluated against each other"
      ]
    },
    {
      "cell_type": "code",
      "execution_count": null,
      "metadata": {
        "id": "6dg-4RTtsg5K"
      },
      "outputs": [],
      "source": [
        "enable_plotly_in_cell()\n",
        "scores = [svm_accuracy, rf_accuracy, lr_accuracy, knn_accuracy, dtree_accuracy]\n",
        "best_score = max(scores)\n",
        "best_model = ''\n",
        "\n",
        "for key, value in accuracy_of_models.items():\n",
        "  if best_score == value:\n",
        "    best_model = key\n",
        "    fig = px.imshow(confusion_matrix_of_models[key], text_auto=True, aspect=\"auto\",\n",
        "                    color_continuous_scale='viridis',\n",
        "                    x=['Not Dropout', 'Dropout'],\n",
        "                    y = ['Not Dropout', 'Dropout'],\n",
        "                    labels=dict(x=\"Actual\", y=\"Prediction\"))\n",
        "\n",
        "    fig.update_layout(title = f'{key} Matrix', height=500, width=800)\n",
        "    fig.show()\n",
        "\n",
        "    confusion_matrix_of_models.pop(key)"
      ]
    },
    {
      "cell_type": "markdown",
      "metadata": {
        "id": "-w3BDD12nmN2"
      },
      "source": [
        "We get the Logistic Regression and Random forest as the best models"
      ]
    },
    {
      "cell_type": "markdown",
      "metadata": {
        "id": "KIGAHhnKtARG"
      },
      "source": [
        "Let's review confusion matrix for other models"
      ]
    },
    {
      "cell_type": "code",
      "execution_count": null,
      "metadata": {
        "id": "NdF_OmHztEI9"
      },
      "outputs": [],
      "source": [
        "enable_plotly_in_cell()\n",
        "colors = ['plotly3', 'RdBu_r', 'thermal','rainbow']\n",
        "position = 0\n",
        "\n",
        "\n",
        "fig = make_subplots(rows=1, cols=4, subplot_titles=list(confusion_matrix_of_models.keys()))\n",
        "\n",
        "for key, value in confusion_matrix_of_models.items():\n",
        "    heatmap = go.Heatmap(z=confusion_matrix_of_models[key], text=confusion_matrix_of_models[key],\n",
        "                        colorscale=colors[position],\n",
        "                        x=['Not Dropout', 'Dropout'],\n",
        "                        y=['Not Dropout', 'Dropout'],\n",
        "                          texttemplate=\"%{text}\",\n",
        "                         showscale = False)\n",
        "\n",
        "    fig.add_trace(heatmap, row=1, col=position+1)\n",
        "\n",
        "    position += 1\n",
        "\n",
        "\n",
        "fig.update_layout(height=500, width=1700, title_text=\"Other models\" )\n",
        "\n",
        "fig.show()"
      ]
    },
    {
      "cell_type": "markdown",
      "metadata": {
        "id": "7u3dT8NZnx_g"
      },
      "source": [
        "After reviewing the confusion matrix of we can conclude that Logistic Regression and Random Forest are the best models.\n",
        "\n",
        "We can evaluate between these two based on the analysis we have alreday done."
      ]
    },
    {
      "cell_type": "code",
      "execution_count": null,
      "metadata": {
        "id": "NsVbgs8Ytcq7"
      },
      "outputs": [],
      "source": [
        "Markdown(f\"\"\"\n",
        "#### From the results above we can see that {best_model} perfoms best with the highest accuracy of {round(best_score * 100, 2)}%\"\"\")"
      ]
    },
    {
      "cell_type": "markdown",
      "metadata": {
        "id": "vvZCHKzxuV7F"
      },
      "source": [
        "# Preparing Data for Web Application"
      ]
    },
    {
      "cell_type": "markdown",
      "metadata": {
        "id": "5Wd6IVHxubYV"
      },
      "source": [
        "Get feature columns used for training the models\n",
        "\n",
        "This is needed for the web application. We will be using this to build our application"
      ]
    },
    {
      "cell_type": "code",
      "execution_count": null,
      "metadata": {
        "id": "7aVi4RMIuZNx"
      },
      "outputs": [],
      "source": [
        "selected_feat= X_train.columns\n",
        "print(\"The features used for the model: \")\n",
        "for feature in selected_feat:\n",
        "  print(feature)\n",
        "print(\"The number of features : {}\".format(len(selected_feat)))\n"
      ]
    },
    {
      "cell_type": "markdown",
      "metadata": {
        "id": "fFmVe3ZgvCtP"
      },
      "source": [
        "#Save Model"
      ]
    },
    {
      "cell_type": "markdown",
      "metadata": {
        "id": "mjpCITBvvEuP"
      },
      "source": [
        "Save selected features\n",
        "\n",
        "We save it as part of the model to make it easier to consume on the web application. This way we don't need to generate another file and store it"
      ]
    },
    {
      "cell_type": "code",
      "execution_count": null,
      "metadata": {
        "id": "XKzR15H-vGFt"
      },
      "outputs": [],
      "source": [
        "lr.feature_names = list(selected_feat)"
      ]
    },
    {
      "cell_type": "markdown",
      "metadata": {
        "id": "YIOaFeUmvvax"
      },
      "source": [
        "Save model\n",
        "\n",
        "We save the model. We will use this saved model to build our web application"
      ]
    },
    {
      "cell_type": "code",
      "execution_count": null,
      "metadata": {
        "id": "FfR9M_PmvCIa"
      },
      "outputs": [],
      "source": [
        "joblib.dump(lr, 'dropout_prediction_model.pkl')"
      ]
    },
    {
      "cell_type": "markdown",
      "metadata": {
        "id": "m0C6Hi8UbovH"
      },
      "source": [
        "#Test modal"
      ]
    },
    {
      "cell_type": "markdown",
      "metadata": {
        "id": "S17B8N4qo0cU"
      },
      "source": [
        "Let's quickly test our modal to see it predicts based on our analysis"
      ]
    },
    {
      "cell_type": "code",
      "execution_count": null,
      "metadata": {
        "id": "u-GJKTcpbnVG"
      },
      "outputs": [],
      "source": [
        "test_model = joblib.load('dropout_prediction_model.pkl')"
      ]
    },
    {
      "cell_type": "markdown",
      "metadata": {
        "id": "sewNIzFao6_F"
      },
      "source": [
        "We can see we get similar results to what we go while training"
      ]
    },
    {
      "cell_type": "code",
      "execution_count": null,
      "metadata": {
        "id": "hi7HnXDXbz4A"
      },
      "outputs": [],
      "source": [
        "result = test_model.score(X_test, y_test)\n",
        "print(result)"
      ]
    },
    {
      "cell_type": "code",
      "execution_count": null,
      "metadata": {
        "id": "7sESFM88Mq4L"
      },
      "outputs": [],
      "source": [
        "final_dataset.sample(10)"
      ]
    },
    {
      "cell_type": "markdown",
      "metadata": {
        "id": "QaFQ_AGSpqae"
      },
      "source": [
        "# Conclusion"
      ]
    },
    {
      "cell_type": "markdown",
      "metadata": {
        "id": "CqClil-ho-20"
      },
      "source": [
        "Hence, we can conclude that the Logistic Regression is the best model to use for our dataset. The Random forest model was a close second. In the end, we decided to go with Logistic Regression due to it's higher accuracy"
      ]
    },
    {
      "cell_type": "markdown",
      "metadata": {
        "id": "NEqhJhM3GLxc"
      },
      "source": [
        "\n",
        "In conclusion, our machine learning project aimed at predicting student dropout has yielded significant insights and outcomes. The issue of student dropout is a pressing concern for educational institutions and society as a whole. Completing this project has allowed us to apply the concepts and techniques we've learned in our machine learning course to tackle a real-world problem with far-reaching implications.\n",
        "\n",
        "Throughout our analysis, we leveraged various machine learning algorithms, explored relevant datasets, and employed feature engineering to build a predictive model. We also identified and considered a range of factors that contribute to student dropout, including academic performance, socio-economic background, and other demographic variables.\n",
        "\n",
        "While our project has made significant progress in predicting student dropout, it's essential to acknowledge that this issue is complex and multifaceted. Future work can focus on refining the model, incorporating more diverse and real-time data sources, and enhancing the accuracy of predictions.\n",
        "\n",
        "The ability to predict student dropout opens doors to improved educational outcomes, greater equality, and a brighter future for students everywhere.\n"
      ]
    },
    {
      "cell_type": "markdown",
      "metadata": {
        "id": "pCAtbZ3ApuHy"
      },
      "source": [
        "# Bibliography\n",
        "\n",
        "1. Mehreen Saeed, Modeling Pipeline Optimization With scikit-learn\n",
        "URL - https://machinelearningmastery.com/modeling-pipeline-optimization-with-scikit-learn/\n",
        "\n",
        "2. Pratik Parmar, Enable plotfly in a cell in colab\n",
        "URL - https://stackoverflow.com/a/54771665\n",
        "\n",
        "3. Build a function to get dicitonaries -URL - https://stackoverflow.com/questions/8653516/search-a-list-of-dictionaries-in-python\n",
        "\n",
        "4. Gilbert Tanner, Building web app with streamlit and deploying wit Heroku - URL - https://gilberttanner.com/blog/deploying-your-streamlit-dashboard-with-heroku/\n",
        "\n",
        "5. M.A. Al-Barrak,Muna S. Al-Razgan, Predicting students’ performance through classification: Journal of Theoretical and Applied Information Technology 75(2):167-175 URL - https://www.researchgate.net/publication/282381796_Predicting_students'_performance_through_classification_A_case_study\n"
      ]
    },
    {
      "cell_type": "markdown",
      "metadata": {
        "id": "Nbs-NKHYqMXp"
      },
      "source": [
        "# Note from the Author"
      ]
    },
    {
      "cell_type": "markdown",
      "metadata": {
        "id": "BAE8KdV7pxji"
      },
      "source": [
        "\n",
        "This file was generated using The NBConvert, additional information on how to\n",
        "prepare articles for submission is [here](https://github.com/ad17171717/YouTube-Tutorials/blob/main/Google%20Colab%20Tutorials/Exporting%20to%20a%20PDF%20Format/Google_Colab_Exporting_to_a_PDF_Format!.ipynb).\n",
        "\n",
        "The article itself is an executable colab Markdown file that could be downloaded from [Github](https://github.com/kunwarRaj20/classification) with all the necessary artifacts.\n",
        "\n",
        "Link to the web application - [Student Dropout Predictor](https://py-test-1-964598a9c406.herokuapp.com/)\n",
        "\n",
        "1. Kunwar Rajdeep Singh - York University School of Continuing Studies"
      ]
    }
  ],
  "metadata": {
    "colab": {
      "provenance": []
    },
    "kernelspec": {
      "display_name": "Python 3",
      "name": "python3"
    },
    "language_info": {
      "name": "python"
    }
  },
  "nbformat": 4,
  "nbformat_minor": 0
}